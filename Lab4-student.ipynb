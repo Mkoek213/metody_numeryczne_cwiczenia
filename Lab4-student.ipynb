{
 "cells": [
  {
   "cell_type": "markdown",
   "id": "numeric-california",
   "metadata": {},
   "source": [
    "# <center> Elementy numerycznej algebry liniowej </center>"
   ]
  },
  {
   "cell_type": "markdown",
   "id": "4a981f63",
   "metadata": {},
   "source": [
    "Rozwiązywanie układów równań liniowych jest jednym z podstawowych problemów metod numerycznych. Układy równań liniowych występują w wielu dziedzinach nauki i inżynierii. Stosuje się też w uczeniu maszynowym np. podczas regresji z błędem średniokwadratowym. \n",
    "\n",
    "\n",
    "Istnieje kilka metod rozwiązywania układów równań. Na dzisiejszych zajęciach zajmiemy się:\n",
    "* eliminacją Gaussa bez oraz z wyborem elementu głównego,\n",
    "* metodami iteracyjnymi.\n",
    "\n",
    "Problem rozwiązywania układu równań liniowych będzie nam towarzyszły do końca zajęć z tego przedmiotu."
   ]
  },
  {
   "cell_type": "markdown",
   "id": "56182a3b",
   "metadata": {},
   "source": [
    "## Normy i wskaźniki uwarunkowania"
   ]
  },
  {
   "cell_type": "markdown",
   "id": "38078700",
   "metadata": {},
   "source": [
    "Wrażliwość układu (zmiana rozwiązania) na niewielkie zaburzenia wektora `b` zależy od macierzy `A` i ocenia się ja za pomocą tzw. współczynnika lub [wskaźnika uwarunkowania macierzy](https://pl.wikipedia.org/wiki/Wskaźnik_uwarunkowania) (ang. *condition number*). Im wyższa wartość tego wskaźnika. tym macierz jest gorzej uwarunkowana. Wskaźnik uwarunkowania to iloczyn normy macierzy z normą jej odwrotności.\n",
    "\n",
    "$$cond(A)=|A|_{p}\\cdot|A^{-1}|_{p}$$\n",
    "gdzie *p* oznacza jedną z norm macierzy."
   ]
  },
  {
   "cell_type": "code",
   "execution_count": 1,
   "id": "sudden-category",
   "metadata": {},
   "outputs": [],
   "source": [
    "import numpy as np\n",
    "import scipy\n",
    "import matplotlib.pyplot as plt"
   ]
  },
  {
   "cell_type": "markdown",
   "id": "acknowledged-howard",
   "metadata": {},
   "source": [
    "***Zadanie 1.***\n",
    "\n",
    "Porównaj normy 1,2, $\\infty$ następujących macierzy:\n",
    "* [Hilberta](https://pl.wikipedia.org/wiki/Macierz_Hilberta): o wymiarach 5x5 i 15x15\n",
    "* [Vandermonde'a](https://pl.wikipedia.org/wiki/Macierz_Vandermonde’a): o wymiarach 5x5 i 15x15\n",
    "* losowej o wartościach z przedziału [0,1]:  o wymiarach 5x5 i 15x15\n",
    "* $P=\\left[\\begin{array}{cccc}4 & 1 & -1 & 0 \\\\ 1 & 3 & -1 & 0 \\\\ -1 & -1 & 5 & 2 \\\\ 0 & 0 & 2 & 4\\end{array}\\right]$\n",
    "\n",
    "Czy wśród powyższych macierzy jest macierz [diagonalnie dominująca](https://pl.wikipedia.org/wiki/Macierz_przekątniowo_dominująca)?\n"
   ]
  },
  {
   "cell_type": "code",
   "execution_count": 23,
   "id": "d7165eb2",
   "metadata": {
    "scrolled": true
   },
   "outputs": [
    {
     "name": "stdout",
     "output_type": "stream",
     "text": [
      "Norma 1 macierzy Hilberta 5x5:  2.283333333333333 \n",
      "\n",
      "Norma 2 macierzy Hilberta 5x5:  1.567050691098231 \n",
      "\n",
      "Norma inf macierzy Hilberta 5x5:  2.283333333333333 \n",
      "\n",
      "\n",
      "\n",
      "Norma 1 macierzy Vandermonde 5x5:  341.0 \n",
      "\n",
      "Norma 2 macierzy Vandermonde 5x5:  278.47381351949326 \n",
      "\n",
      "Norma inf macierzy Vandermonde 5x5:  354.0 \n",
      "\n",
      "\n",
      "\n",
      "Norma 1 macierzy losowej 5x5:  3.6314274032770903 \n",
      "\n",
      "Norma 2 macierzy losowej 5x5:  2.8551815074307707 \n",
      "\n",
      "Norma inf macierzy losowej 5x5:  3.191456033476068 \n",
      "\n",
      "\n",
      "\n",
      "Norma 1 macierzy Hilberta 15x15:  3.3182289932289937 \n",
      "\n",
      "Norma 2 macierzy Hilberta 15x15:  1.8459277461534886 \n",
      "\n",
      "Norma inf macierzy Hilberta 15x15:  3.3182289932289937 \n",
      "\n",
      "\n",
      "\n",
      "Norma 1 macierzy Vandermonde 15x15:  1.1966776581370172e+16 \n",
      "\n",
      "Norma 2 macierzy Vandermonde 15x15:  1.1896237370922632e+16 \n",
      "\n",
      "Norma inf macierzy Vandermonde 15x15:  1.6841089312342856e+16 \n",
      "\n",
      "\n",
      "\n",
      "Norma 1 macierzy losowej 15x15:  11.074930907089461 \n",
      "\n",
      "Norma 2 macierzy losowej 15x15:  7.571986156350486 \n",
      "\n",
      "Norma inf macierzy losowej 15x15:  10.289527776904569 \n",
      "\n",
      "\n",
      "\n"
     ]
    }
   ],
   "source": [
    "mat_hilbert5x5 = np.array([[1/(i+j+1) for i in range(5)] for j in range(5)])\n",
    "mat_hilber15x15 = np.array([[1/(i+j+1) for i in range(15)] for j in range(15)])\n",
    "mat_vandermonde5x5 = np.array([[i**j for i in range(5)] for j in range(5)])\n",
    "mat_vandermonde15x15 = np.array([[i**j for i in range(15)] for j in range(15)])\n",
    "mat_random5x5 = np.random.rand(5,5)\n",
    "mat_random15x15 = np.random.rand(15,15)\n",
    "\n",
    "def norm1(mat):\n",
    "    return np.linalg.norm(mat, ord=1)\n",
    "def norm2(mat):\n",
    "    return np.linalg.norm(mat, ord=2)\n",
    "def norm_inf(mat):\n",
    "    return np.linalg.norm(mat, ord=np.inf)\n",
    "\n",
    "print(\"Norma 1 macierzy Hilberta 5x5: \", norm1(mat_hilbert5x5), \"\\n\")\n",
    "print(\"Norma 2 macierzy Hilberta 5x5: \", norm2(mat_hilbert5x5), \"\\n\")\n",
    "print(\"Norma inf macierzy Hilberta 5x5: \", norm_inf(mat_hilbert5x5), \"\\n\\n\\n\")\n",
    "print(\"Norma 1 macierzy Vandermonde 5x5: \", norm1(mat_vandermonde5x5), \"\\n\")\n",
    "print(\"Norma 2 macierzy Vandermonde 5x5: \", norm2(mat_vandermonde5x5), \"\\n\")\n",
    "print(\"Norma inf macierzy Vandermonde 5x5: \", norm_inf(mat_vandermonde5x5), \"\\n\\n\\n\")\n",
    "print(\"Norma 1 macierzy losowej 5x5: \", norm1(mat_random5x5), \"\\n\")\n",
    "print(\"Norma 2 macierzy losowej 5x5: \", norm2(mat_random5x5), \"\\n\")\n",
    "print(\"Norma inf macierzy losowej 5x5: \", norm_inf(mat_random5x5), \"\\n\\n\\n\")\n",
    "print(\"Norma 1 macierzy Hilberta 15x15: \", norm1(mat_hilber15x15), \"\\n\")\n",
    "print(\"Norma 2 macierzy Hilberta 15x15: \", norm2(mat_hilber15x15), \"\\n\")\n",
    "print(\"Norma inf macierzy Hilberta 15x15: \", norm_inf(mat_hilber15x15), \"\\n\\n\\n\")\n",
    "print(\"Norma 1 macierzy Vandermonde 15x15: \", norm1(mat_vandermonde15x15), \"\\n\")\n",
    "print(\"Norma 2 macierzy Vandermonde 15x15: \", norm2(mat_vandermonde15x15), \"\\n\")\n",
    "print(\"Norma inf macierzy Vandermonde 15x15: \", norm_inf(mat_vandermonde15x15), \"\\n\\n\\n\")\n",
    "print(\"Norma 1 macierzy losowej 15x15: \", norm1(mat_random15x15), \"\\n\")\n",
    "print(\"Norma 2 macierzy losowej 15x15: \", norm2(mat_random15x15), \"\\n\")\n",
    "print(\"Norma inf macierzy losowej 15x15: \", norm_inf(mat_random15x15), \"\\n\\n\\n\")\n"
   ]
  },
  {
   "cell_type": "markdown",
   "id": "global-trauma",
   "metadata": {},
   "source": [
    "*Wskazówka: Do wyznaczenia norm możesz wykorzystać funkcję `numpy.linalg.norm`*"
   ]
  },
  {
   "cell_type": "markdown",
   "id": "posted-novel",
   "metadata": {},
   "source": [
    "***Zadanie 2.***\n",
    "\n",
    "Oblicz wskaźniki uwarunkowania macierzy z poprzedniego zadania.\n",
    "\n",
    "*Wskazówka: Możesz wykorzystać funkcję `numpy.linalg.cond`.*"
   ]
  },
  {
   "cell_type": "code",
   "execution_count": 4,
   "id": "74bf9063",
   "metadata": {},
   "outputs": [
    {
     "name": "stdout",
     "output_type": "stream",
     "text": [
      "Wskaźnik uwarunkowania macierzy Hilberta 5x5:  476607.25024259434 \n",
      "\n",
      "Wskaźnik uwarunkowania macierzy Hilberta 15x15:  3.674392953467974e+17 \n",
      "\n",
      "Wskaźnik uwarunkowania macierzy Vandermonde 5x5:  2592.8860553342697 \n",
      "\n",
      "Wskaźnik uwarunkowania macierzy Vandermonde 15x15:  2.8126297948473385e+18 \n",
      "\n",
      "Wskaźnik uwarunkowania macierzy losowej 5x5:  24.876950123848818 \n",
      "\n",
      "Wskaźnik uwarunkowania macierzy losowej 15x15:  90.04796217267739 \n",
      "\n"
     ]
    }
   ],
   "source": [
    "# wskaźniki uwarunkowania macierzy Hilberta\n",
    "print(\"Wskaźnik uwarunkowania macierzy Hilberta 5x5: \", np.linalg.cond(mat_hilbert5x5), \"\\n\")\n",
    "print(\"Wskaźnik uwarunkowania macierzy Hilberta 15x15: \", np.linalg.cond(mat_hilber15x15), \"\\n\")\n",
    "# wskaźniki uwarunkowania macierzy Vandermonde\n",
    "print(\"Wskaźnik uwarunkowania macierzy Vandermonde 5x5: \", np.linalg.cond(mat_vandermonde5x5), \"\\n\")\n",
    "print(\"Wskaźnik uwarunkowania macierzy Vandermonde 15x15: \", np.linalg.cond(mat_vandermonde15x15), \"\\n\")\n",
    "# wskaźniki uwarunkowania macierzy losowej\n",
    "print(\"Wskaźnik uwarunkowania macierzy losowej 5x5: \", np.linalg.cond(mat_random5x5), \"\\n\")\n",
    "print(\"Wskaźnik uwarunkowania macierzy losowej 15x15: \", np.linalg.cond(mat_random15x15), \"\\n\")"
   ]
  },
  {
   "cell_type": "markdown",
   "id": "bdc325a4",
   "metadata": {},
   "source": [
    "## Rozwiązywanie układów równań metodą eliminacji Gaussa"
   ]
  },
  {
   "cell_type": "markdown",
   "id": "61c219cd",
   "metadata": {},
   "source": [
    "***Zadanie 3.***\n",
    "\n",
    "Jedną z metod rozwiązywania układów równań liniowych jest metoda eliminacji Gaussa. Metoda ta występuje w kilku odmianach. Poza podstawowym wariantem, możliwe jest zastosowanie metody z wyborem elementu głownego (tzw. *pivoting*). \n",
    "\n",
    "Celem tego zadania jest porównanie błędów rozwiązania otrzymanego z tych dwóch wariantów eliminacji Gaussa. Poniżej znajdują się implementacje obu tych metod. Każda z funkcji przyjmuje macierz `A` oraz wektor prawej strony równania `b`.\n",
    "\n",
    "Samo polecenie znajduje się poniżej."
   ]
  },
  {
   "cell_type": "code",
   "execution_count": 5,
   "id": "13751725",
   "metadata": {},
   "outputs": [],
   "source": [
    "def gauss_pivot(A, b):\n",
    "    A=A.copy()\n",
    "    b=b.copy()\n",
    "    n = len(b)\n",
    "    for k in range(n-1):\n",
    "        ind_max = k\n",
    "        for j in range(k+1, n):\n",
    "            if abs(A[j,k]) > abs(A[ind_max,k]):\n",
    "                ind_max = j\n",
    "        if ind_max > k:\n",
    "            tmp = A[ind_max,k:n].copy()\n",
    "            A[ind_max,k:n] = A[k,k:n]\n",
    "            A[k,k:n] = tmp\n",
    "            tmp = b[ind_max].copy()\n",
    "            b[ind_max] = b[k]\n",
    "            b[k] = tmp\n",
    "        akk = A[k,k]\n",
    "        l = A[k+1:n,k] / akk\n",
    "        for i in range(k+1, n):\n",
    "            A[i,k] = 0\n",
    "            A[i,k+1:n] = A[i,k+1:n] - l[i-k-1] * A[k,k+1:n]\n",
    "            b[i] = b[i] - l[i-k-1] * b[k]\n",
    "    x = np.zeros(n)\n",
    "    x[n-1] = b[n-1]/A[n-1,n-1]\n",
    "    for k in range(n-2, -1, -1):\n",
    "        x[k] = (b[k] - np.dot(A[k,k+1:n], x[k+1:n])) / A[k,k]\n",
    "    return x"
   ]
  },
  {
   "cell_type": "code",
   "execution_count": 6,
   "id": "24ea0c35",
   "metadata": {},
   "outputs": [],
   "source": [
    "def gauss(A, b):\n",
    "    A=A.copy()\n",
    "    b=b.copy()\n",
    "    n = len(b)\n",
    "    for k in range(n-1):\n",
    "        akk = A[k,k]\n",
    "        l = A[k+1:n,k] / akk\n",
    "        for i in range(k+1, n):\n",
    "            A[i,k] = 0\n",
    "            A[i,k+1:n] = A[i,k+1:n] - l[i-k-1] * A[k,k+1:n]\n",
    "            b[i] = b[i] - l[i-k-1] * b[k]\n",
    "    x = np.zeros(n)\n",
    "    x[n-1] = b[n-1] / A[n-1,n-1]\n",
    "    for k in range(n-2, -1, -1):\n",
    "        x[k] = (b[k] - np.dot(A[k,k+1:n], x[k+1:n])) / A[k,k]\n",
    "    return x"
   ]
  },
  {
   "cell_type": "markdown",
   "id": "5ff66813",
   "metadata": {},
   "source": [
    "Stwórz macierze wartości losowych `A` o wymiarach 10x10 oraz wektor `b` o odpowiednich wymiarach. \n",
    "Chcemy rozwiązać układ równań `Ax=b` metodami eliminacji Gaussa bez oraz z wyborem elementu głównego, a następnie porównać dokładność wyników. Metoda z wyborem elementu głównego powinna dawać mniejszy błąd w przypadku dużych wartości znajdujących się na przekątnej. Sprawdź czy to prawda powtarzając obliczenia z  macierzami `A` zawierającym na pierwszym elemencie przekątnej coraz to mniejsze wartości (tak aby wzrosło znaczenie dalszych elementów na przękątnej i tym samym uaktywnił się wybór innego niż pierwszy elementu głównego).\n",
    "\n",
    "Wskazówka:Do porównania możesz wykorzystać residuum. Jeżeli `x` jest rozwiązaniem układu to `Ax` powinno być równe `b`. Residuum to różnica pomiędzy `b` oraz `Ax`: `res=|b-Ax|`. Możesz porównać zawartości poszczególnych elementów lub obliczyć jakąś normę z otrzymanego wektora."
   ]
  },
  {
   "cell_type": "code",
   "execution_count": 8,
   "id": "de122a7f",
   "metadata": {},
   "outputs": [
    {
     "name": "stdout",
     "output_type": "stream",
     "text": [
      "Wynik z użyciem wyboru elementu głównego:  [ 25.18640951  -7.7786734   14.22925883  20.54058952   9.88006894\n",
      " -11.67232109 -16.36602354  -6.45265747 -19.1211674  -12.3172891 ]\n",
      "Wynik bez użycia wyboru elementu głównego:  [ 25.18640951  -7.7786734   14.22925883  20.54058952   9.88006894\n",
      " -11.67232109 -16.36602354  -6.45265747 -19.1211674  -12.3172891 ]\n",
      "Różnica:  9.515865539067413e-12\n"
     ]
    }
   ],
   "source": [
    "mat_random10x10 = np.random.rand(10,10)\n",
    "b = np.random.rand(10)\n",
    "x_pivot = gauss_pivot(mat_random10x10, b)\n",
    "x = gauss(mat_random10x10, b)\n",
    "print(\"Wynik z użyciem wyboru elementu głównego: \", x_pivot)\n",
    "print(\"Wynik bez użycia wyboru elementu głównego: \", x)\n",
    "print(\"Różnica: \", np.linalg.norm(x_pivot - x))\n"
   ]
  },
  {
   "cell_type": "markdown",
   "id": "6205d9cd",
   "metadata": {},
   "source": [
    "## Metody iteracyjne"
   ]
  },
  {
   "cell_type": "markdown",
   "id": "70a7dd5f",
   "metadata": {},
   "source": [
    "Innym sposobem na rozwiązanie układu równań liniowych jest wykorzystanie metod iteracyjnych, które generują ciągi przybliżeń wektora stanowiącego rozwiązanie układu. Państwa zadaniem będzie implementacja i porównanie zbieżności trzech najpopularniejszych metod iteracyjnego rozwiązywania układów równań liniowych"
   ]
  },
  {
   "cell_type": "markdown",
   "id": "254b4846",
   "metadata": {},
   "source": [
    "***Zadanie 4.***\n",
    "\n",
    "Porównanie zbieżności metod Jacobiego, Gaussa-Seidla i Younga (SOR).\n",
    "* Zaimplementuj solvery rozwiązujące układy równań metodami Jacobiego, Gaussa-Seidela  i Younga (SOR). Każda funkcja powinna przyjmować macierz A i wektor prawej strony b. Dla uproszczenia, dopuszczalne jest wykorzystanie  inv dla obliczenia macierzy odwrotnej do macierzy trójkątnej (w metodzie G-S i Younga).\n",
    "* Porównaj zbieżność ciągów iteracyjnych otrzymanych 3 metodami dla 3 układów równań (3 macierzy). W metodzie Younga możesz przyjąć np. $ω = 1.2$.\n",
    "* Dla macierzy, dla której metoda Younga okazała się zbieżna, porównaj zbieżność ciągów iteracyjnych otrzymanych dla wartości $0 < ω < 3$ (dodatkowe).\n",
    "* Dla jakiej wartości parametru $ω$ zbieżność ciągu iteracyjnego jest najlepsza? Wynik otrzymany na podstawie obserwacji ciągu odchyleń od rozwiązania dokładnego należy porównać z wnioskiem płynącym z wykresu zależności promienia spektralnego macierzy iteracji w zależności od parametru $ω$ (dodatkowe)."
   ]
  },
  {
   "cell_type": "code",
   "execution_count": 13,
   "id": "0b96ab57",
   "metadata": {},
   "outputs": [
    {
     "name": "stderr",
     "output_type": "stream",
     "text": [
      "/var/folders/09/x2xp10gs49bbtz1mfs0qwk8w0000gn/T/ipykernel_35463/1908529899.py:12: RuntimeWarning: overflow encountered in subtract\n",
      "  if np.linalg.norm(x_new - x) < epsilon or count > 1000:\n"
     ]
    },
    {
     "name": "stdout",
     "output_type": "stream",
     "text": [
      "Wynik metody Jacobiego:  [nan nan nan nan nan nan nan nan nan nan]\n",
      "Wynik metody Gaussa-Seidela:  [nan nan nan nan nan nan nan nan nan nan]\n",
      "Wynik metody SOR:  [nan nan nan nan nan nan nan nan nan nan]\n"
     ]
    }
   ],
   "source": [
    "def Jacobi(mat, b, x0, epsilon):\n",
    "    D = np.diag(np.diag(mat))\n",
    "    LU = mat - D\n",
    "    D_inv = np.linalg.inv(D)\n",
    "    x = x0\n",
    "    x_new = x0\n",
    "    count = 0\n",
    "    while True:\n",
    "        x = x_new\n",
    "        x_new = np.dot(D_inv, b - np.dot(LU, x))\n",
    "        count += 1\n",
    "        if np.linalg.norm(x_new - x) < epsilon or count > 1000:\n",
    "            break\n",
    "    return x_new\n",
    "\n",
    "def Gauss_Seidel(mat, b, x0, epsilon):\n",
    "    L = np.tril(mat, k=-1)\n",
    "    U = np.triu(mat, k=1)\n",
    "    D = np.diag(np.diag(mat))\n",
    "    x = x0\n",
    "    x_new = x0\n",
    "    count = 0\n",
    "    while True:\n",
    "        x = x_new\n",
    "        x_new = np.dot(np.linalg.inv(L + D), b - np.dot(U, x))\n",
    "        count += 1\n",
    "        if np.linalg.norm(x_new - x) < epsilon or count > 1000:\n",
    "            break\n",
    "    return x_new\n",
    "\n",
    "def SOR(mat, b, x0, epsilon, omega=1.2):\n",
    "    L = np.tril(mat, k=-1)\n",
    "    U = np.triu(mat, k=1)\n",
    "    D = np.diag(np.diag(mat))\n",
    "    x = x0\n",
    "    x_new = x0\n",
    "    count = 0\n",
    "    while True:\n",
    "        x = x_new\n",
    "        x_new = np.dot(np.linalg.inv(D + omega*L), (1-omega)*np.dot(D, x) - omega*np.dot(U, x) + omega*b)\n",
    "        count += 1\n",
    "        if np.linalg.norm(x_new - x) < epsilon or count > 1000:\n",
    "            break\n",
    "    return x_new\n",
    "\n",
    "mat_random10x10 = np.random.rand(10,10)\n",
    "b = np.random.rand(10)\n",
    "x0 = [1] * 10\n",
    "epsilon = 1e-4\n",
    "x_jacobi = Jacobi(mat_random10x10, b, x0, epsilon)\n",
    "x_gs = Gauss_Seidel(mat_random10x10, b, x0, epsilon)\n",
    "x_sor = SOR(mat_random10x10, b, x0, epsilon)\n",
    "print(\"Wynik metody Jacobiego: \", x_jacobi)\n",
    "print(\"Wynik metody Gaussa-Seidela: \", x_gs)\n",
    "print(\"Wynik metody SOR: \", x_sor)\n"
   ]
  },
  {
   "cell_type": "markdown",
   "id": "5719a332",
   "metadata": {},
   "source": [
    "## Porównanie rozwiązania za pomocą metody `solve` oraz z użyciem odwrotności na przykładzie macierzy źle uwarunkowanej"
   ]
  },
  {
   "cell_type": "markdown",
   "id": "integral-blade",
   "metadata": {},
   "source": [
    "***Zadanie 5.***\n",
    "\n",
    "Dany jest układ równań $Hx=b$.\n",
    "* H jest macierzą Hilberta o wymiarach $n=5x5$ (I przypadek) i $n=15x15$ (II przypadek),\n",
    "* b jest wektorem o następujących elementach $b_i = 1/(n + i + 1)$ Uwaga: $i=1,\\dots,n$.\n",
    "\n",
    "Do rozwiązania układu wykorzystaj dwa algorytmy:\n",
    "1. Z odwracaniem macierzy współczynników H.\n",
    "2. Metodę `numpy.linalg.solve`.\n",
    "\n",
    "Porównaj błędy obu rozwiązań. Aby ocenić błąd możesz:\n",
    "* wyznaczyć wektor residuum otrzymanego rozwiązania,\n",
    "* rozwiązać układ równań z innym wektorem $b$. Załóż, że wektor rozwiązania ma wszystkie elementy (współrzędne) równe 1 ($u_i = 1, i = 1, 2, . . . , n$). Wtedy $b = Hu$. Układ rozwiążemy bez korzystania z wiedzy o postaci $u$. Dopiero wynik porównamy ze znanym nam $u$."
   ]
  },
  {
   "cell_type": "code",
   "execution_count": 45,
   "id": "killing-cancer",
   "metadata": {},
   "outputs": [
    {
     "name": "stdout",
     "output_type": "stream",
     "text": [
      "Błąd dla macierzy Hilberta 5x5:  1.5675707541746671e-13\n",
      "Błąd dla macierzy Hilberta 15x15:  0.09912180807564873\n",
      "Błąd dla macierzy Hilberta 5x5 (solve):  7.343435057440258e-17\n",
      "Błąd dla macierzy Hilberta 15x15 (solve):  5.916805858239645e-16\n",
      "Residuum dla macierzy Hilberta 5x5:  1.5675707541746671e-13\n",
      "Residuum dla macierzy Hilberta 15x15:  0.09912180807564873\n",
      "Residuum dla macierzy Hilberta 5x5 (solve):  7.343435057440258e-17\n",
      "Residuum dla macierzy Hilberta 15x15 (solve):  5.916805858239645e-16\n",
      "Błąd dla macierzy Hilberta 5x5 (wektor jedynkowy):  7.121339907719716e-12\n",
      "Błąd dla macierzy Hilberta 15x15 (wektor jedynkowy):  7.139131076016187\n",
      "Błąd dla macierzy Hilberta 5x5 (solve, wektor jedynkowy):  7.519677498818824e-14\n",
      "Błąd dla macierzy Hilberta 15x15 (solve, wektor jedynkowy):  1.8601696786818903e-08\n",
      "Residuum dla macierzy Hilberta 5x5 (wektor jedynkowy):  7.121339907719716e-12\n",
      "Residuum dla macierzy Hilberta 15x15 (wektor jedynkowy):  7.139131076016187\n",
      "Residuum dla macierzy Hilberta 5x5 (solve):  7.519677498818824e-14\n",
      "Residuum dla macierzy Hilberta 15x15 (solve):  1.8601696786818903e-08\n"
     ]
    }
   ],
   "source": [
    "from scipy.linalg import hilbert\n",
    "\n",
    "mat_hilbert5x5 = scipy.linalg.hilbert(5)\n",
    "mat_hilbert15x15 = scipy.linalg.hilbert(15)\n",
    "b5 = [0] * 5\n",
    "for i in range(5):\n",
    "    b5[i] = 1/(5 + i + 1)\n",
    "b15 = [0] * 15\n",
    "for i in range(15):\n",
    "    b15[i] = 1/(15 + i + 1)\n",
    "# algorytm z odwracaniem macierzy współczyników H\n",
    "x5 = np.dot(np.linalg.inv(mat_hilbert5x5), b5)\n",
    "x15 = np.dot(np.linalg.inv(mat_hilbert15x15), b15)\n",
    "# algorytm z wykorzystaniem numpy.linalg.solve\n",
    "x5_solve = np.linalg.solve(mat_hilbert5x5, b5)\n",
    "x15_solve = np.linalg.solve(mat_hilbert15x15, b15)\n",
    "# porównuję błędy obu rozwiązań, wyznaczam wektor residuum otrzymanego rozwiązania\n",
    "print(\"Błąd dla macierzy Hilberta 5x5: \", np.linalg.norm(np.dot(mat_hilbert5x5, x5) - b5))\n",
    "print(\"Błąd dla macierzy Hilberta 15x15: \", np.linalg.norm(np.dot(mat_hilbert15x15, x15) - b15))\n",
    "print(\"Błąd dla macierzy Hilberta 5x5 (solve): \", np.linalg.norm(np.dot(mat_hilbert5x5, x5_solve) - b5))\n",
    "print(\"Błąd dla macierzy Hilberta 15x15 (solve): \", np.linalg.norm(np.dot(mat_hilbert15x15, x15_solve) - b15))\n",
    "print(\"Residuum dla macierzy Hilberta 5x5: \", np.linalg.norm(b5 - np.dot(mat_hilbert5x5, x5)))\n",
    "print(\"Residuum dla macierzy Hilberta 15x15: \", np.linalg.norm(b15 - np.dot(mat_hilbert15x15, x15)))\n",
    "print(\"Residuum dla macierzy Hilberta 5x5 (solve): \", np.linalg.norm(b5 - np.dot(mat_hilbert5x5, x5_solve)))\n",
    "print(\"Residuum dla macierzy Hilberta 15x15 (solve): \", np.linalg.norm(b15 - np.dot(mat_hilbert15x15, x15_solve)))\n",
    "\n",
    "b5ones = [1] * 5\n",
    "b15ones = [1] * 15\n",
    "x5ones = np.dot(np.linalg.inv(mat_hilbert5x5), b5ones)\n",
    "x15ones = np.dot(np.linalg.inv(mat_hilbert15x15), b15ones)\n",
    "x5ones_solve = np.linalg.solve(mat_hilbert5x5, b5ones)\n",
    "x15ones_solve = np.linalg.solve(mat_hilbert15x15, b15ones)\n",
    "print(\"Błąd dla macierzy Hilberta 5x5 (wektor jedynkowy): \", np.linalg.norm(np.dot(mat_hilbert5x5, x5ones) - b5ones))\n",
    "print(\"Błąd dla macierzy Hilberta 15x15 (wektor jedynkowy): \", np.linalg.norm(np.dot(mat_hilbert15x15, x15ones) - b15ones))\n",
    "print(\"Błąd dla macierzy Hilberta 5x5 (solve, wektor jedynkowy): \", np.linalg.norm(np.dot(mat_hilbert5x5, x5ones_solve) - b5ones))\n",
    "print(\"Błąd dla macierzy Hilberta 15x15 (solve, wektor jedynkowy): \", np.linalg.norm(np.dot(mat_hilbert15x15, x15ones_solve) - b15ones))\n",
    "print(\"Residuum dla macierzy Hilberta 5x5 (wektor jedynkowy): \", np.linalg.norm(b5ones - np.dot(mat_hilbert5x5, x5ones)))\n",
    "print(\"Residuum dla macierzy Hilberta 15x15 (wektor jedynkowy): \", np.linalg.norm(b15ones - np.dot(mat_hilbert15x15, x15ones)))\n",
    "print(\"Residuum dla macierzy Hilberta 5x5 (solve): \", np.linalg.norm(b5ones - np.dot(mat_hilbert5x5, x5ones_solve)))\n",
    "print(\"Residuum dla macierzy Hilberta 15x15 (solve): \", np.linalg.norm(b15ones - np.dot(mat_hilbert15x15, x15ones_solve)))"
   ]
  },
  {
   "cell_type": "code",
   "execution_count": 43,
   "id": "cca8e50f",
   "metadata": {},
   "outputs": [
    {
     "data": {
      "text/plain": [
       "[0.16666666666666666, 0.14285714285714285, 0.125, 0.1111111111111111, 0.1]"
      ]
     },
     "execution_count": 43,
     "metadata": {},
     "output_type": "execute_result"
    }
   ],
   "source": [
    "b5"
   ]
  },
  {
   "cell_type": "markdown",
   "id": "22ae3d15",
   "metadata": {},
   "source": [
    "**Zadanie domowe. Znaczenie wskaźnika uwarunkowania macierzy w szacowaniu błędu rozwiązania**\n",
    "\n",
    "\n",
    "Dana jest następująca macierz A współczynników układu dwóch równań liniowy:\n",
    "$$A=\\begin{bmatrix}10^5 & 9.9\\cdot10^4\\\\1.00001& 0.99\\end{bmatrix}$$\n",
    "\n",
    "Wektor prawej strony równania $Ax=b$ dla rozwiązania x = $[1, 1]^T$ możemy wyznaczyć z równości $b = Ax$.\n",
    "\n",
    "Należy:\n",
    "* obliczyć wskaźnik uwarunkowania macierzy $A$,\n",
    "* rozwiązać układ równań $Ax = b$ (nie korzystając z wiedzy o przyjętym rozwiązaniu dokładnym x) korzystając z funkcji `np.linalg.solve`,\n",
    "* ocenić błąd otrzymanego rozwiązania i porównać go z błędem szacowanym za pomocą wskaźnika uwarunkowania macierzy A,\n",
    "* przeprowadzić skalowanie tak, aby macierz $A$ była wyważona wierszami,\n",
    "* wyznaczyć nowe wartości wektora b tak, aby rozwiązanie dokładne się nie\n",
    "zmieniło,\n",
    "* obliczyć wskaźnik uwarunkowania macierzy skalowanej,\n",
    "* rozwiązać układ równań tą samą metodą jak poprzednio,\n",
    "* ocenić błąd otrzymanego rozwiązania i porównać go z błędem szacowanym za pomocą wskaźnika uwarunkowania skalowanej macierzy $A$.\n",
    "1. Czy błąd numeryczny rozwiązania w obu przypadkach jest tego samego rzędu?\n",
    "2. Które szacowanie błędu jest bardziej zbliżone do faktycznego błędu?"
   ]
  },
  {
   "cell_type": "code",
   "execution_count": 22,
   "id": "5067fa3f",
   "metadata": {},
   "outputs": [
    {
     "name": "stdout",
     "output_type": "stream",
     "text": [
      "Wskaźnik uwarunkowania macierzy A:  20001010102.66865 \n",
      "\n",
      "Rozwiązanie układu równań Ax = b dla b = [1, 1]:  [  99998.99999881 -101009.09089778] \n",
      "\n",
      "Błąd otrzymanego rozwiązania:  0.0\n",
      "Błąd szacowany:  0.0\n",
      "Wskaźnik uwarunkowania macierzy A po skalowaniu:  400022.2222130645 \n",
      "\n",
      "Rozwiązanie układu równań Ax = b po skalowaniu:  [0.71065287 0.70354282] \n",
      "\n",
      "Błąd otrzymanego rozwiązania po skalowaniu:  0.0\n",
      "Błąd szacowany po skalowaniu:  0.0\n"
     ]
    }
   ],
   "source": [
    "mat_A = np.array([[100000, 99000], [1.00001, 0.99]])\n",
    "# 1 oblicz wskaźnik uwarunkowania macierzy A\n",
    "print(\"Wskaźnik uwarunkowania macierzy A: \", np.linalg.cond(mat_A), \"\\n\")\n",
    "# 2 rozwiąż układ równań Ax = b dla b = [1, 1]\n",
    "b = np.array([1, 1])\n",
    "x = np.linalg.solve(mat_A, b)\n",
    "print(\"Rozwiązanie układu równań Ax = b dla b = [1, 1]: \", x, \"\\n\")\n",
    "# 3 ocenić błąd otrzymanego rozwiązania i porównać go z błędem szacowanym za pomocą wskaźika uwarunkowania macierzy A\n",
    "b = np.array([1, 1])\n",
    "x = np.linalg.solve(mat_A, b)\n",
    "b_prim = np.dot(mat_A, x)\n",
    "blad = np.linalg.norm(b - b_prim)\n",
    "blad_szacowany = np.linalg.norm(mat_A) * np.linalg.norm(x - np.linalg.solve(mat_A, b)) / np.linalg.norm(x)\n",
    "print(\"Błąd otrzymanego rozwiązania: \", blad)\n",
    "print(\"Błąd szacowany: \", blad_szacowany)\n",
    "# 4 przeprowadzić skalowanie tak, aby macierz A była wywaona wierszami\n",
    "mat_A = np.array([[100000, 99000], [1.00001, 0.99]])\n",
    "mat_A[0] = mat_A[0] / np.linalg.norm(mat_A[0])\n",
    "mat_A[1] = mat_A[1] / np.linalg.norm(mat_A[1])\n",
    "# 5 wyznaczyć nowe wartości wektora b tak, aby rozwiązanie dokładne się nie zmieniło\n",
    "b = np.array([1, 1])\n",
    "b = b / np.linalg.norm(mat_A[0])\n",
    "# 6 obliczyć wskaźnik uwarunkowania macierzy skalowanej\n",
    "print(\"Wskaźnik uwarunkowania macierzy A po skalowaniu: \", np.linalg.cond(mat_A), \"\\n\")\n",
    "# 7 rozwiązać układ równań tą samą metodą jak poprzednio\n",
    "x = np.linalg.solve(mat_A, b)\n",
    "print(\"Rozwiązanie układu równań Ax = b po skalowaniu: \", x, \"\\n\")\n",
    "# 8 ocenić błąd otrzymanego rozwiązania i porównać go z błędem szacowanym za pomocą wskaźika uwarunkowania macierzy A\n",
    "b = np.array([1, 1])\n",
    "x = np.linalg.solve(mat_A, b)\n",
    "b_prim = np.dot(mat_A, x)\n",
    "blad = np.linalg.norm(b - b_prim)\n",
    "blad_szacowany = np.linalg.norm(mat_A) * np.linalg.norm(x - np.linalg.solve(mat_A, b)) / np.linalg.norm(x)\n",
    "print(f\"Błąd otrzymanego rozwiązania po skalowaniu: \", blad)\n",
    "print(\"Błąd szacowany po skalowaniu: \", blad_szacowany)\n",
    "# 9 Czy błąd numeryczny rozwiązania w obu przypadkach jest tego samego rzędu?\n",
    "# Błąd numeryczny rozwiązania w obu przypadkach jest tego samego rzędu\n",
    "# 10 Które szacowanie błędu jest bardziej zbliżone do faktycznego błędu?\n",
    "# Szacowania są identyczne\n",
    "\n"
   ]
  },
  {
   "cell_type": "code",
   "execution_count": null,
   "id": "007a2b8e",
   "metadata": {},
   "outputs": [],
   "source": []
  }
 ],
 "metadata": {
  "kernelspec": {
   "display_name": "Python 3 (ipykernel)",
   "language": "python",
   "name": "python3"
  },
  "language_info": {
   "codemirror_mode": {
    "name": "ipython",
    "version": 3
   },
   "file_extension": ".py",
   "mimetype": "text/x-python",
   "name": "python",
   "nbconvert_exporter": "python",
   "pygments_lexer": "ipython3",
   "version": "3.11.8"
  }
 },
 "nbformat": 4,
 "nbformat_minor": 5
}
